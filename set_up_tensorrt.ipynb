{
 "cells": [
  {
   "cell_type": "code",
   "execution_count": 1,
   "metadata": {},
   "outputs": [
    {
     "name": "stdout",
     "output_type": "stream",
     "text": [
      "Fri Jul  7 02:12:11 2023       \n",
      "+-----------------------------------------------------------------------------+\n",
      "| NVIDIA-SMI 495.44       Driver Version: 495.44       CUDA Version: 11.5     |\n",
      "|-------------------------------+----------------------+----------------------+\n",
      "| GPU  Name        Persistence-M| Bus-Id        Disp.A | Volatile Uncorr. ECC |\n",
      "| Fan  Temp  Perf  Pwr:Usage/Cap|         Memory-Usage | GPU-Util  Compute M. |\n",
      "|                               |                      |               MIG M. |\n",
      "|===============================+======================+======================|\n",
      "|   0  NVIDIA GeForce ...  Off  | 00000000:65:00.0 Off |                  N/A |\n",
      "|  9%   45C    P8     9W / 250W |     85MiB / 11177MiB |      0%      Default |\n",
      "|                               |                      |                  N/A |\n",
      "+-------------------------------+----------------------+----------------------+\n",
      "                                                                               \n",
      "+-----------------------------------------------------------------------------+\n",
      "| Processes:                                                                  |\n",
      "|  GPU   GI   CI        PID   Type   Process name                  GPU Memory |\n",
      "|        ID   ID                                                   Usage      |\n",
      "|=============================================================================|\n",
      "|    0   N/A  N/A      1125      G   /usr/lib/xorg/Xorg                 29MiB |\n",
      "|    0   N/A  N/A      2364      G   /usr/lib/xorg/Xorg                 19MiB |\n",
      "|    0   N/A  N/A   1185703      G   /usr/lib/xorg/Xorg                 19MiB |\n",
      "+-----------------------------------------------------------------------------+\n"
     ]
    }
   ],
   "source": [
    "!nvidia-smi"
   ]
  },
  {
   "cell_type": "code",
   "execution_count": 2,
   "metadata": {},
   "outputs": [
    {
     "name": "stdout",
     "output_type": "stream",
     "text": [
      "Ubuntu 20.04.5 LTS \\n \\l\n",
      "\n",
      "nvcc: NVIDIA (R) Cuda compiler driver\n",
      "Copyright (c) 2005-2021 NVIDIA Corporation\n",
      "Built on Mon_Sep_13_19:13:29_PDT_2021\n",
      "Cuda compilation tools, release 11.5, V11.5.50\n",
      "Build cuda_11.5.r11.5/compiler.30411180_0\n",
      "Python 3.9.16\n",
      "ii  cudnn-local-repo-ubuntu2004-8.3.2.44                        1.0-1                                      amd64        cudnn-local repository configuration files\n",
      "ii  libcudnn8                                                   8.3.2.44-1+cuda11.5                        amd64        cuDNN runtime libraries\n",
      "ii  libcudnn8-dev                                               8.3.2.44-1+cuda11.5                        amd64        cuDNN development libraries and headers\n",
      "ii  libcudnn8-samples                                           8.3.2.44-1+cuda11.5                        amd64        cuDNN samples\n"
     ]
    }
   ],
   "source": [
    "!cat /etc/issue\n",
    "!nvcc -V\n",
    "!python -V\n",
    "!dpkg -l | grep \"cudnn\""
   ]
  },
  {
   "attachments": {},
   "cell_type": "markdown",
   "metadata": {},
   "source": [
    "### Download tar file from the nvidia website based on your machine specification"
   ]
  },
  {
   "cell_type": "code",
   "execution_count": null,
   "metadata": {},
   "outputs": [],
   "source": [
    "!tar -xvzf TensorRT-8.6.1.6.Linux.x86_64-gnu.cuda-11.8.tar.gz.tar.gz "
   ]
  },
  {
   "cell_type": "code",
   "execution_count": null,
   "metadata": {},
   "outputs": [],
   "source": [
    "%cd TensorRT-8.6.1.6/python/\n",
    "!sudo pip3 install tensorrt-8.6.1-cp38-none-linux_x86_64.whl"
   ]
  },
  {
   "cell_type": "code",
   "execution_count": null,
   "metadata": {},
   "outputs": [],
   "source": [
    "%cd TensorRT-8.6.1.6/uff/\n",
    "!sudo pip3 install uff-0.6.9-py2.py3-none-any.whl                                                                                                SIGINT(2) ↵  (anaconda3)"
   ]
  },
  {
   "cell_type": "code",
   "execution_count": null,
   "metadata": {},
   "outputs": [],
   "source": [
    "%cd TensorRT-8.6.1.6/graphsurgeon/\n",
    "!sudo pip3 install graphsurgeon-0.4.6-py2.py3-none-any.whl  "
   ]
  },
  {
   "cell_type": "code",
   "execution_count": null,
   "metadata": {},
   "outputs": [],
   "source": [
    "%cd TensorRT-8.6.1.6/onnx_graphsurgeon/\n",
    "!a  sudo pip3 install onnx_graphsurgeon-0.3.12-py2.py3-none-any.whl"
   ]
  },
  {
   "cell_type": "code",
   "execution_count": null,
   "metadata": {},
   "outputs": [],
   "source": [
    "!sudo cp TensorRT-8.6.1.6/lib/* /usr/lib/"
   ]
  }
 ],
 "metadata": {
  "kernelspec": {
   "display_name": "text-generation-inference",
   "language": "python",
   "name": "python3"
  },
  "language_info": {
   "codemirror_mode": {
    "name": "ipython",
    "version": 3
   },
   "file_extension": ".py",
   "mimetype": "text/x-python",
   "name": "python",
   "nbconvert_exporter": "python",
   "pygments_lexer": "ipython3",
   "version": "3.9.16"
  },
  "orig_nbformat": 4
 },
 "nbformat": 4,
 "nbformat_minor": 2
}

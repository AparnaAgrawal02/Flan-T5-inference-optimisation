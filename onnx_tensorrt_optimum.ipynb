{
 "cells": [
  {
   "attachments": {},
   "cell_type": "markdown",
   "metadata": {},
   "source": [
    "# FlanT5-large on cpu"
   ]
  },
  {
   "cell_type": "code",
   "execution_count": 2,
   "metadata": {},
   "outputs": [
    {
     "name": "stderr",
     "output_type": "stream",
     "text": [
      "/home/meeami/anaconda3/envs/text-generation-inference/lib/python3.9/site-packages/tqdm/auto.py:21: TqdmWarning: IProgress not found. Please update jupyter and ipywidgets. See https://ipywidgets.readthedocs.io/en/stable/user_install.html\n",
      "  from .autonotebook import tqdm as notebook_tqdm\n",
      "2023-07-07 01:47:38.862984: I tensorflow/core/platform/cpu_feature_guard.cc:182] This TensorFlow binary is optimized to use available CPU instructions in performance-critical operations.\n",
      "To enable the following instructions: AVX2 AVX512F FMA, in other operations, rebuild TensorFlow with the appropriate compiler flags.\n",
      "Your input_length: 22 is bigger than 0.9 * max_length: 20. You might consider increasing your max_length manually, e.g. translator('...', max_length=400)\n"
     ]
    }
   ],
   "source": [
    "from transformers import T5Tokenizer, T5ForConditionalGeneration,pipeline\n",
    "from cached_path import cached_path\n",
    "import os\n",
    "tokenizer = T5Tokenizer.from_pretrained(\"google/flan-t5-large\")\n",
    "model = T5ForConditionalGeneration.from_pretrained(\"google/flan-t5-large\").cpu()\n",
    "translation = pipeline(\"translation_en_to_fr\", model=model, tokenizer=tokenizer)\n",
    "text = \"He never went out without a book under his arm, and he often came back with two.\"\n",
    "result = translation(text)\n",
    "\n"
   ]
  },
  {
   "cell_type": "code",
   "execution_count": 3,
   "metadata": {},
   "outputs": [
    {
     "name": "stderr",
     "output_type": "stream",
     "text": [
      "100%|██████████| 100/100 [01:13<00:00,  1.36it/s]\n"
     ]
    },
    {
     "name": "stdout",
     "output_type": "stream",
     "text": [
      "For Flan-T5 large: orignal:\n",
      "seq_len:  8 time:  0.7376394391059875\n"
     ]
    },
    {
     "name": "stderr",
     "output_type": "stream",
     "text": [
      "100%|██████████| 100/100 [01:13<00:00,  1.35it/s]\n"
     ]
    },
    {
     "name": "stdout",
     "output_type": "stream",
     "text": [
      "For Flan-T5 large: orignal:\n",
      "seq_len:  32 time:  0.7389604616165161\n"
     ]
    },
    {
     "name": "stderr",
     "output_type": "stream",
     "text": [
      "100%|██████████| 100/100 [01:13<00:00,  1.36it/s]\n"
     ]
    },
    {
     "name": "stdout",
     "output_type": "stream",
     "text": [
      "For Flan-T5 large: orignal:\n",
      "seq_len:  128 time:  0.734180109500885\n"
     ]
    },
    {
     "name": "stderr",
     "output_type": "stream",
     "text": [
      "100%|██████████| 100/100 [01:13<00:00,  1.36it/s]"
     ]
    },
    {
     "name": "stdout",
     "output_type": "stream",
     "text": [
      "For Flan-T5 large: orignal:\n",
      "seq_len:  512 time:  0.7366388320922852\n"
     ]
    },
    {
     "name": "stderr",
     "output_type": "stream",
     "text": [
      "\n"
     ]
    }
   ],
   "source": [
    "import tqdm\n",
    "import time\n",
    "seq_len = [8, 32, 128, 512]\n",
    "for i in range(4):\n",
    "    start = time.time()\n",
    "    for j in tqdm.tqdm(range(100)):\n",
    "        input_text =  \"house \"* seq_len[i]\n",
    "        result = translation(text, max_length=520)\n",
    "        \n",
    "    end = time.time()\n",
    "    print(\"For Flan-T5 large: orignal:\")\n",
    "    print(\"seq_len: \", seq_len[i], \"time: \", (end - start)/100)"
   ]
  },
  {
   "attachments": {},
   "cell_type": "markdown",
   "metadata": {},
   "source": [
    "# FlanT5-large onnx (cpu)"
   ]
  },
  {
   "cell_type": "code",
   "execution_count": null,
   "metadata": {},
   "outputs": [],
   "source": [
    "\n",
    "# %%\n",
    "from transformers import AutoTokenizer, pipeline\n",
    "from optimum.onnxruntime import ORTModelForSeq2SeqLM\n",
    "\n",
    "model_name = \"google/flan-t5-large\"\n",
    "model = ORTModelForSeq2SeqLM.from_pretrained(model_name,export =True)\n",
    "export_dir='/home/meeami/aparna/onnx_model'\n",
    "#model.export(output_dir = export_dir)\n",
    "tokenizer = AutoTokenizer.from_pretrained(model_name)\n",
    "\n",
    "onnx_translation = pipeline(\"translation_en_to_fr\", model=model, tokenizer=tokenizer)\n",
    "text = \"He never went out without a book under his arm, and he often came back with two.\"\n",
    "result = onnx_translation(text,max_length=520)\n",
    "# [{'translation_text': \"Il n'est jamais sorti sans un livre sous son bras, et il est souvent revenu avec deux.\"}]\n",
    "\n"
   ]
  },
  {
   "cell_type": "code",
   "execution_count": null,
   "metadata": {},
   "outputs": [],
   "source": [
    "# %%\n",
    "import tqdm\n",
    "import time\n",
    "seq_len = [8, 32, 128, 512]\n",
    "for i in range(4):\n",
    "    start = time.time()\n",
    "    for j in tqdm.tqdm(range(100)):\n",
    "        input_text =  \"house \"* seq_len[i]\n",
    "        result = onnx_translation(text,max_length=520)\n",
    "    print(\"For Flan-T5 large: onnx:\")\n",
    "    end = time.time()\n",
    "    print(\"seq_len: \", seq_len[i], \"time: \", (end - start)/100)"
   ]
  },
  {
   "attachments": {},
   "cell_type": "markdown",
   "metadata": {},
   "source": [
    "# FlanT5-large GPU"
   ]
  },
  {
   "cell_type": "code",
   "execution_count": null,
   "metadata": {},
   "outputs": [],
   "source": [
    "\n",
    "from transformers import T5Tokenizer, T5ForConditionalGeneration,pipeline\n",
    "from cached_path import cached_path\n",
    "import os\n",
    "tokenizer = T5Tokenizer.from_pretrained(\"google/flan-t5-large\")\n",
    "model = T5ForConditionalGeneration.from_pretrained(\"google/flan-t5-large\").cuda()"
   ]
  },
  {
   "cell_type": "code",
   "execution_count": null,
   "metadata": {},
   "outputs": [],
   "source": [
    "import tqdm\n",
    "import time\n",
    "seq_len = [8, 32, 128, 512,1024]\n",
    "for i in range(5):\n",
    "    start = time.time()\n",
    "    for j in tqdm.tqdm(range(100)):\n",
    "        input_text =  \"house \"* seq_len[i]\n",
    "        input = tokenizer(input_text, return_tensors='pt').input_ids.cuda()\n",
    "\n",
    "        outputs = model.generate(input, max_length=5)\n",
    "\n",
    "        result = tokenizer.decode(outputs[0], skip_special_tokens=True)\n",
    "        \n",
    "    end = time.time()\n",
    "    print(\"For Flan-T5 large: orignal:\")\n",
    "    print(\"seq_len: \", seq_len[i], \"time: \", (end - start)/100)"
   ]
  },
  {
   "attachments": {},
   "cell_type": "markdown",
   "metadata": {},
   "source": [
    "# Flan-T5-large onnx GPU"
   ]
  },
  {
   "cell_type": "code",
   "execution_count": null,
   "metadata": {},
   "outputs": [],
   "source": [
    "\n",
    "from transformers import AutoTokenizer, pipeline\n",
    "from optimum.onnxruntime import ORTModelForSeq2SeqLM\n",
    "import numpy as np \n",
    "import onnx\n",
    "\n",
    "model_name = \"google/flan-t5-large\"\n",
    "model = ORTModelForSeq2SeqLM.from_pretrained(model_name,export =True, provider=\"CUDAExecutionProvider\")\n",
    "\n",
    "export_dir='/home/meeami/aparna/onnx_model/'\n",
    "model.save_pretrained(export_dir)\n",
    "tokenizer = AutoTokenizer.from_pretrained(model_name)\n",
    "\n",
    "text = \"He never went out without a book under his arm, and he often came back with two.\"\n",
    "#result = onnx_translation(text,max_length=520)\n",
    "[{'translation_text': \"Il n'est jamais sorti sans un livre sous son bras, et il est souvent revenu avec deux.\"}]\n",
    "print(model.providers)\n",
    "\n"
   ]
  },
  {
   "cell_type": "code",
   "execution_count": null,
   "metadata": {},
   "outputs": [],
   "source": [
    "import tqdm\n",
    "import time\n",
    "seq_len = [ 512,1048]\n",
    "for i in range(4):\n",
    "    start = time.time()\n",
    "    for j in tqdm.tqdm(range(100)):\n",
    "        start1  = time.time()\n",
    "        input_text =  \"house \"* seq_len[i]\n",
    "        input = tokenizer(input_text, return_tensors='pt').input_ids.cuda()\n",
    "\n",
    "        outputs =model.generate(input, max_length=5)\n",
    "\n",
    "        result = tokenizer.decode(outputs[0], skip_special_tokens=True)\n",
    "        end1= time.time()\n",
    "        print(end1-start1)\n",
    "    print(\"For Flan-T5 large: onnx:\")\n",
    "    end = time.time()\n",
    "    print(\"seq_len: \", seq_len[i], \"time: \", (end - start)/99)"
   ]
  },
  {
   "attachments": {},
   "cell_type": "markdown",
   "metadata": {},
   "source": [
    "# Flan-T5-large onnx Tensorrt"
   ]
  },
  {
   "cell_type": "code",
   "execution_count": null,
   "metadata": {},
   "outputs": [],
   "source": [
    "\n",
    "from transformers import AutoTokenizer, pipeline\n",
    "from optimum.onnxruntime import ORTModelForSeq2SeqLM\n",
    "import numpy as np \n",
    "import onnx\n",
    "\n",
    "model_name = \"google/flan-t5-large\"\n",
    "model = ORTModelForSeq2SeqLM.from_pretrained(model_name,export =True, provider=\"TensorrtExecutionProvider\")\n",
    "\n",
    "export_dir='/home/meeami/aparna/onnx_model/'\n",
    "model.save_pretrained(export_dir)\n",
    "tokenizer = AutoTokenizer.from_pretrained(model_name)\n",
    "\n",
    "text = \"He never went out without a book under his arm, and he often came back with two.\"\n",
    "#result = onnx_translation(text,max_length=520)\n",
    "[{'translation_text': \"Il n'est jamais sorti sans un livre sous son bras, et il est souvent revenu avec deux.\"}]\n",
    "print(model.providers)\n"
   ]
  },
  {
   "cell_type": "code",
   "execution_count": null,
   "metadata": {},
   "outputs": [],
   "source": [
    "import tqdm\n",
    "import time\n",
    "seq_len = [ 512,1048]\n",
    "for i in range(4):\n",
    "    start = time.time()\n",
    "    for j in tqdm.tqdm(range(100)):\n",
    "        start1  = time.time()\n",
    "        input_text =  \"house \"* seq_len[i]\n",
    "        input = tokenizer(input_text, return_tensors='pt').input_ids.cuda()\n",
    "\n",
    "        outputs =model.generate(input, max_length=5)\n",
    "\n",
    "        result = tokenizer.decode(outputs[0], skip_special_tokens=True)\n",
    "        end1= time.time()\n",
    "        print(end1-start1)\n",
    "    print(\"For Flan-T5 large: onnx:\")\n",
    "    end = time.time()\n",
    "    print(\"seq_len: \", seq_len[i], \"time: \", (end - start)/99)"
   ]
  }
 ],
 "metadata": {
  "kernelspec": {
   "display_name": "text-generation-inference",
   "language": "python",
   "name": "python3"
  },
  "language_info": {
   "codemirror_mode": {
    "name": "ipython",
    "version": 3
   },
   "file_extension": ".py",
   "mimetype": "text/x-python",
   "name": "python",
   "nbconvert_exporter": "python",
   "pygments_lexer": "ipython3",
   "version": "3.9.16"
  },
  "orig_nbformat": 4
 },
 "nbformat": 4,
 "nbformat_minor": 2
}
